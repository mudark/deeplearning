{
 "cells": [
  {
   "metadata": {},
   "cell_type": "markdown",
   "source": "<h1>요구 사항과 숙제 후기는 가장 아래에 있습니다.</h>",
   "id": "2c4c627a9ad6719d"
  },
  {
   "metadata": {
    "ExecuteTime": {
     "end_time": "2025-10-17T08:18:41.323416Z",
     "start_time": "2025-10-17T08:18:41.296877Z"
    }
   },
   "cell_type": "code",
   "source": [
    "import os\n",
    "\n",
    "import numpy as np\n",
    "import pandas as pd\n",
    "import torch\n",
    "from torch import nn, optim\n",
    "from torch.utils.data import Dataset, random_split, DataLoader\n",
    "from datetime import datetime\n",
    "import wandb\n",
    "import argparse"
   ],
   "id": "4067682b4fffcb6a",
   "outputs": [],
   "execution_count": 10
  },
  {
   "metadata": {
    "ExecuteTime": {
     "end_time": "2025-10-17T08:18:42.621982Z",
     "start_time": "2025-10-17T08:18:41.350066Z"
    }
   },
   "cell_type": "code",
   "source": [
    "# 출력 폭 제한을 해제 (무제한)\n",
    "pd.set_option(\"display.width\", None)\n",
    "# 모든 컬럼 출력되도록 설정\n",
    "pd.set_option(\"display.max_columns\", None)\n",
    "\n",
    "class TitanicDataset(Dataset):\n",
    "  def __init__(self, X, y):\n",
    "    print(type(X))           # np.ndarray여야 함\n",
    "    print(X.dtype)\n",
    "    print(type(y))           # np.ndarray여야 함\n",
    "    print(y.dtype)\n",
    "    self.X = torch.FloatTensor(X.astype(np.float32))\n",
    "    self.y = torch.LongTensor(y)\n",
    "\n",
    "  def __len__(self):\n",
    "    return len(self.X)\n",
    "\n",
    "  def __getitem__(self, idx):\n",
    "    feature = self.X[idx]\n",
    "    target = self.y[idx]\n",
    "    return {'input': feature, 'target': target}\n",
    "\n",
    "  def __str__(self):\n",
    "    str = \"Data Size: {0}, Input Shape: {1}, Target Shape: {2}\".format(\n",
    "      len(self.X), self.X.shape, self.y.shape\n",
    "    )\n",
    "    return str\n",
    "\n",
    "\n",
    "class TitanicTestDataset(Dataset):\n",
    "  def __init__(self, X):\n",
    "    self.X = torch.FloatTensor(X.astype(np.float32))\n",
    "\n",
    "  def __len__(self):\n",
    "    return len(self.X)\n",
    "\n",
    "  def __getitem__(self, idx):\n",
    "    feature = self.X[idx]\n",
    "    return {'input': feature}\n",
    "\n",
    "  def __str__(self):\n",
    "    str = \"Data Size: {0}, Input Shape: {1}\".format(\n",
    "      len(self.X), self.X.shape\n",
    "    )\n",
    "    return str\n",
    "\n",
    "\n",
    "def get_preprocessed_dataset():\n",
    "    CURRENT_FILE_PATH = os.path.join(\"..\",\"..\",\"_03_homeworks\",\"homework_2\")\n",
    "\n",
    "    train_data_path = os.path.join(CURRENT_FILE_PATH, \"train.csv\")\n",
    "    test_data_path = os.path.join(CURRENT_FILE_PATH, \"test.csv\")\n",
    "\n",
    "    train_df = pd.read_csv(train_data_path)\n",
    "    test_df = pd.read_csv(test_data_path)\n",
    "\n",
    "    all_df = pd.concat([train_df, test_df], sort=False)\n",
    "\n",
    "    all_df = get_preprocessed_dataset_1(all_df)\n",
    "\n",
    "    all_df = get_preprocessed_dataset_2(all_df)\n",
    "\n",
    "    all_df = get_preprocessed_dataset_3(all_df)\n",
    "\n",
    "    all_df = get_preprocessed_dataset_4(all_df)\n",
    "\n",
    "    all_df = get_preprocessed_dataset_5(all_df)\n",
    "\n",
    "    all_df = get_preprocessed_dataset_6(all_df)\n",
    "\n",
    "    print(all_df.columns)\n",
    "    print(all_df.head(10))\n",
    "\n",
    "    train_X = all_df[~all_df[\"Survived\"].isnull()].drop(\"Survived\", axis=1).reset_index(drop=True)\n",
    "    train_y = train_df[\"Survived\"]\n",
    "\n",
    "    test_X = all_df[all_df[\"Survived\"].isnull()].drop(\"Survived\", axis=1).reset_index(drop=True)\n",
    "\n",
    "    from sklearn.preprocessing import StandardScaler\n",
    "    scaler = StandardScaler()\n",
    "\n",
    "    dataset = TitanicDataset(scaler.fit_transform(train_X), train_y.values)\n",
    "    print(dataset)\n",
    "\n",
    "    train_dataset, validation_dataset = random_split(dataset, [0.8, 0.2])\n",
    "    test_dataset = TitanicTestDataset(scaler.transform(test_X))\n",
    "    print(test_dataset)\n",
    "\n",
    "    return train_dataset, validation_dataset, test_dataset\n",
    "\n",
    "\n",
    "def get_preprocessed_dataset_1(all_df):\n",
    "    # Pclass별 Fare (요금) 평균값을 사용하여 Fare 결측치 메우기\n",
    "    Fare_mean = all_df[[\"Pclass\", \"Fare\"]].groupby(\"Pclass\").mean().reset_index()\n",
    "    Fare_mean.columns = [\"Pclass\", \"Fare_mean\"]\n",
    "    all_df = pd.merge(all_df, Fare_mean, on=\"Pclass\", how=\"left\")\n",
    "    all_df.loc[(all_df[\"Fare\"].isnull()), \"Fare\"] = all_df[\"Fare_mean\"]\n",
    "    all_df = all_df.drop(columns=[\"Fare_mean\"])\n",
    "\n",
    "    return all_df\n",
    "\n",
    "\n",
    "def get_preprocessed_dataset_2(all_df):\n",
    "    # name을 세 개의 컬럼으로 분리하여 다시 all_df에 합침\n",
    "    name_df = all_df[\"Name\"].str.split(\"[,.]\", n=2, expand=True)\n",
    "    name_df.columns = [\"family_name\", \"title\", \"name\"]\n",
    "    name_df[\"family_name\"] = name_df[\"family_name\"].str.strip()\n",
    "    name_df[\"title\"] = name_df[\"title\"].str.strip()\n",
    "    name_df[\"name\"] = name_df[\"name\"].str.strip()\n",
    "    all_df = pd.concat([all_df, name_df], axis=1)\n",
    "\n",
    "    return all_df\n",
    "\n",
    "\n",
    "def get_preprocessed_dataset_3(all_df):\n",
    "    # title별 Age 평균값을 사용하여 Age 결측치 메우기\n",
    "    title_age_mean = all_df[[\"title\", \"Age\"]].groupby(\"title\").median().round().reset_index()\n",
    "    title_age_mean.columns = [\"title\", \"title_age_mean\", ]\n",
    "    all_df = pd.merge(all_df, title_age_mean, on=\"title\", how=\"left\")\n",
    "    all_df.loc[(all_df[\"Age\"].isnull()), \"Age\"] = all_df[\"title_age_mean\"]\n",
    "    all_df = all_df.drop([\"title_age_mean\"], axis=1)\n",
    "\n",
    "    return all_df\n",
    "\n",
    "\n",
    "def get_preprocessed_dataset_4(all_df):\n",
    "    # 가족수(family_num) 컬럼 새롭게 추가\n",
    "    all_df[\"family_num\"] = all_df[\"Parch\"] + all_df[\"SibSp\"]\n",
    "\n",
    "    # 혼자탑승(alone) 컬럼 새롭게 추가\n",
    "    all_df.loc[all_df[\"family_num\"] == 0, \"alone\"] = 1\n",
    "    all_df[\"alone\"] = all_df[\"alone\"].fillna(0)\n",
    "\n",
    "    # 학습에 불필요한 컬럼 제거\n",
    "    all_df = all_df.drop([\"PassengerId\", \"Name\", \"family_name\", \"name\", \"Ticket\", \"Cabin\"], axis=1)\n",
    "\n",
    "    return all_df\n",
    "\n",
    "\n",
    "def get_preprocessed_dataset_5(all_df):\n",
    "    # title 값 개수 줄이기\n",
    "    all_df.loc[\n",
    "    ~(\n",
    "            (all_df[\"title\"] == \"Mr\") |\n",
    "            (all_df[\"title\"] == \"Miss\") |\n",
    "            (all_df[\"title\"] == \"Mrs\") |\n",
    "            (all_df[\"title\"] == \"Master\")\n",
    "    ),\n",
    "    \"title\"\n",
    "    ] = \"other\"\n",
    "    all_df[\"Embarked\"].fillna(\"missing\", inplace=True)\n",
    "    all_df[\"Sex\"].fillna(all_df[\"Sex\"].mode()[0], inplace=True)\n",
    "    all_df['Sex'] = all_df['Sex'].str.strip().str.lower()\n",
    "    all_df[\"Sex\"] = all_df[\"Sex\"].map({\"male\": 1, \"female\": 0})\n",
    "    all_df = pd.get_dummies(all_df, columns=[\"Embarked\", \"title\"], drop_first=True)\n",
    "\n",
    "    return all_df\n",
    "\n",
    "\n",
    "def get_preprocessed_dataset_6(all_df):\n",
    "    # 카테고리 변수를 LabelEncoder를 사용하여 수치값으로 변경하기\n",
    "    category_features = all_df.columns[all_df.dtypes == \"object\"]\n",
    "    from sklearn.preprocessing import LabelEncoder\n",
    "    for category_feature in category_features:\n",
    "        le = LabelEncoder()\n",
    "        if all_df[category_feature].dtypes == \"object\":\n",
    "          le = le.fit(all_df[category_feature])\n",
    "          all_df[category_feature] = le.transform(all_df[category_feature])\n",
    "\n",
    "    return all_df\n",
    "\n",
    "\n",
    "if __name__ == \"__main__\":\n",
    "  train_dataset, validation_dataset, test_dataset = get_preprocessed_dataset()\n",
    "\n",
    "  print(\"train_dataset: {0}, validation_dataset.shape: {1}, test_dataset: {2}\".format(\n",
    "    len(train_dataset), len(validation_dataset), len(test_dataset)\n",
    "  ))\n",
    "  print(\"#\" * 50, 1)\n",
    "\n",
    "  train_data_loader = DataLoader(dataset=train_dataset, batch_size=16, shuffle=True)\n",
    "  validation_data_loader = DataLoader(dataset=validation_dataset, batch_size=len(validation_dataset), shuffle=True)\n",
    "  test_data_loader = DataLoader(dataset=test_dataset, batch_size=len(test_dataset))\n",
    "\n",
    "  print(\"[TRAIN]\")\n",
    "  for idx, batch in enumerate(train_data_loader):\n",
    "    print(\"{0} - {1}: {2}\".format(idx, batch['input'].shape, batch['target'].shape))\n",
    "\n",
    "  print(\"[VALIDATION]\")\n",
    "  for idx, batch in enumerate(validation_data_loader):\n",
    "    print(\"{0} - {1}: {2}\".format(idx, batch['input'].shape, batch['target'].shape))\n",
    "\n",
    "  print(\"[TEST]\")\n",
    "  for idx, batch in enumerate(test_data_loader):\n",
    "    print(\"{0} - {1}\".format(idx, batch['input'].shape))"
   ],
   "id": "3caa3936ecb09032",
   "outputs": [
    {
     "name": "stderr",
     "output_type": "stream",
     "text": [
      "C:\\Users\\82102\\AppData\\Local\\Temp\\ipykernel_25440\\1031792946.py:151: FutureWarning: A value is trying to be set on a copy of a DataFrame or Series through chained assignment using an inplace method.\n",
      "The behavior will change in pandas 3.0. This inplace method will never work because the intermediate object on which we are setting values always behaves as a copy.\n",
      "\n",
      "For example, when doing 'df[col].method(value, inplace=True)', try using 'df.method({col: value}, inplace=True)' or df[col] = df[col].method(value) instead, to perform the operation inplace on the original object.\n",
      "\n",
      "\n",
      "  all_df[\"Embarked\"].fillna(\"missing\", inplace=True)\n",
      "C:\\Users\\82102\\AppData\\Local\\Temp\\ipykernel_25440\\1031792946.py:152: FutureWarning: A value is trying to be set on a copy of a DataFrame or Series through chained assignment using an inplace method.\n",
      "The behavior will change in pandas 3.0. This inplace method will never work because the intermediate object on which we are setting values always behaves as a copy.\n",
      "\n",
      "For example, when doing 'df[col].method(value, inplace=True)', try using 'df.method({col: value}, inplace=True)' or df[col] = df[col].method(value) instead, to perform the operation inplace on the original object.\n",
      "\n",
      "\n",
      "  all_df[\"Sex\"].fillna(all_df[\"Sex\"].mode()[0], inplace=True)\n"
     ]
    },
    {
     "name": "stdout",
     "output_type": "stream",
     "text": [
      "Index(['Survived', 'Pclass', 'Sex', 'Age', 'SibSp', 'Parch', 'Fare',\n",
      "       'family_num', 'alone', 'Embarked_Q', 'Embarked_S', 'Embarked_missing',\n",
      "       'title_Miss', 'title_Mr', 'title_Mrs', 'title_other'],\n",
      "      dtype='object')\n",
      "   Survived  Pclass  Sex   Age  SibSp  Parch     Fare  family_num  alone  \\\n",
      "0       0.0       3    1  22.0      1      0   7.2500           1    0.0   \n",
      "1       1.0       1    0  38.0      1      0  71.2833           1    0.0   \n",
      "2       1.0       3    0  26.0      0      0   7.9250           0    1.0   \n",
      "3       1.0       1    0  35.0      1      0  53.1000           1    0.0   \n",
      "4       0.0       3    1  35.0      0      0   8.0500           0    1.0   \n",
      "5       0.0       3    1  29.0      0      0   8.4583           0    1.0   \n",
      "6       0.0       1    1  54.0      0      0  51.8625           0    1.0   \n",
      "7       0.0       3    1   2.0      3      1  21.0750           4    0.0   \n",
      "8       1.0       3    0  27.0      0      2  11.1333           2    0.0   \n",
      "9       1.0       2    0  14.0      1      0  30.0708           1    0.0   \n",
      "\n",
      "   Embarked_Q  Embarked_S  Embarked_missing  title_Miss  title_Mr  title_Mrs  \\\n",
      "0       False        True             False       False      True      False   \n",
      "1       False       False             False       False     False       True   \n",
      "2       False        True             False        True     False      False   \n",
      "3       False        True             False       False     False       True   \n",
      "4       False        True             False       False      True      False   \n",
      "5        True       False             False       False      True      False   \n",
      "6       False        True             False       False      True      False   \n",
      "7       False        True             False       False     False      False   \n",
      "8       False        True             False       False     False       True   \n",
      "9       False       False             False       False     False       True   \n",
      "\n",
      "   title_other  \n",
      "0        False  \n",
      "1        False  \n",
      "2        False  \n",
      "3        False  \n",
      "4        False  \n",
      "5        False  \n",
      "6        False  \n",
      "7        False  \n",
      "8        False  \n",
      "9        False  \n",
      "<class 'numpy.ndarray'>\n",
      "float64\n",
      "<class 'numpy.ndarray'>\n",
      "int64\n",
      "Data Size: 891, Input Shape: torch.Size([891, 15]), Target Shape: torch.Size([891])\n",
      "Data Size: 418, Input Shape: torch.Size([418, 15])\n",
      "train_dataset: 713, validation_dataset.shape: 178, test_dataset: 418\n",
      "################################################## 1\n",
      "[TRAIN]\n",
      "0 - torch.Size([16, 15]): torch.Size([16])\n",
      "1 - torch.Size([16, 15]): torch.Size([16])\n",
      "2 - torch.Size([16, 15]): torch.Size([16])\n",
      "3 - torch.Size([16, 15]): torch.Size([16])\n",
      "4 - torch.Size([16, 15]): torch.Size([16])\n",
      "5 - torch.Size([16, 15]): torch.Size([16])\n",
      "6 - torch.Size([16, 15]): torch.Size([16])\n",
      "7 - torch.Size([16, 15]): torch.Size([16])\n",
      "8 - torch.Size([16, 15]): torch.Size([16])\n",
      "9 - torch.Size([16, 15]): torch.Size([16])\n",
      "10 - torch.Size([16, 15]): torch.Size([16])\n",
      "11 - torch.Size([16, 15]): torch.Size([16])\n",
      "12 - torch.Size([16, 15]): torch.Size([16])\n",
      "13 - torch.Size([16, 15]): torch.Size([16])\n",
      "14 - torch.Size([16, 15]): torch.Size([16])\n",
      "15 - torch.Size([16, 15]): torch.Size([16])\n",
      "16 - torch.Size([16, 15]): torch.Size([16])\n",
      "17 - torch.Size([16, 15]): torch.Size([16])\n",
      "18 - torch.Size([16, 15]): torch.Size([16])\n",
      "19 - torch.Size([16, 15]): torch.Size([16])\n",
      "20 - torch.Size([16, 15]): torch.Size([16])\n",
      "21 - torch.Size([16, 15]): torch.Size([16])\n",
      "22 - torch.Size([16, 15]): torch.Size([16])\n",
      "23 - torch.Size([16, 15]): torch.Size([16])\n",
      "24 - torch.Size([16, 15]): torch.Size([16])\n",
      "25 - torch.Size([16, 15]): torch.Size([16])\n",
      "26 - torch.Size([16, 15]): torch.Size([16])\n",
      "27 - torch.Size([16, 15]): torch.Size([16])\n",
      "28 - torch.Size([16, 15]): torch.Size([16])\n",
      "29 - torch.Size([16, 15]): torch.Size([16])\n",
      "30 - torch.Size([16, 15]): torch.Size([16])\n",
      "31 - torch.Size([16, 15]): torch.Size([16])\n",
      "32 - torch.Size([16, 15]): torch.Size([16])\n",
      "33 - torch.Size([16, 15]): torch.Size([16])\n",
      "34 - torch.Size([16, 15]): torch.Size([16])\n",
      "35 - torch.Size([16, 15]): torch.Size([16])\n",
      "36 - torch.Size([16, 15]): torch.Size([16])\n",
      "37 - torch.Size([16, 15]): torch.Size([16])\n",
      "38 - torch.Size([16, 15]): torch.Size([16])\n",
      "39 - torch.Size([16, 15]): torch.Size([16])\n",
      "40 - torch.Size([16, 15]): torch.Size([16])\n",
      "41 - torch.Size([16, 15]): torch.Size([16])\n",
      "42 - torch.Size([16, 15]): torch.Size([16])\n",
      "43 - torch.Size([16, 15]): torch.Size([16])\n",
      "44 - torch.Size([9, 15]): torch.Size([9])\n",
      "[VALIDATION]\n",
      "0 - torch.Size([178, 15]): torch.Size([178])\n",
      "[TEST]\n",
      "0 - torch.Size([418, 15])\n"
     ]
    }
   ],
   "execution_count": 11
  },
  {
   "cell_type": "code",
   "id": "initial_id",
   "metadata": {
    "collapsed": true,
    "ExecuteTime": {
     "end_time": "2025-10-17T08:21:00.482642Z",
     "start_time": "2025-10-17T08:18:42.735809Z"
    }
   },
   "source": [
    "from pathlib import Path\n",
    "BASE_PATH = Path.cwd() # BASE_PATH: /Users/yhhan/git/link_dl\n",
    "print(\"BASE_PATH:\", BASE_PATH)\n",
    "\n",
    "import sys\n",
    "sys.path.append(BASE_PATH)\n",
    "\n",
    "from _01_code._03_real_world_data_to_tensors.m_california_housing_dataset_dataloader \\\n",
    "  import CaliforniaHousingDataset\n",
    "\n",
    "\n",
    "def get_data():\n",
    "  titanic_dataset, validation_dataset, test_dataset = get_preprocessed_dataset()\n",
    "  print(titanic_dataset)\n",
    "  print(len(titanic_dataset), len(validation_dataset))\n",
    "\n",
    "  train_data_loader = DataLoader(dataset=train_dataset, batch_size=wandb.config.batch_size, shuffle=True)\n",
    "  validation_data_loader = DataLoader(dataset=validation_dataset, batch_size=len(validation_dataset))\n",
    "  test_data_loader = DataLoader(dataset=test_dataset, batch_size=len(test_dataset))\n",
    "\n",
    "  return train_data_loader, validation_data_loader, test_data_loader\n",
    "\n",
    "\n",
    "class MyModel(nn.Module):\n",
    "  def __init__(self, n_input, n_output):\n",
    "    super().__init__()\n",
    "\n",
    "    self.model = nn.Sequential(\n",
    "      nn.Linear(n_input, wandb.config.n_hidden_unit_list[0]),\n",
    "      nn.LeakyReLU(),\n",
    "      nn.Linear(wandb.config.n_hidden_unit_list[0], wandb.config.n_hidden_unit_list[1]),\n",
    "      nn.LeakyReLU(),\n",
    "      nn.Linear(wandb.config.n_hidden_unit_list[0], wandb.config.n_hidden_unit_list[1]),\n",
    "      nn.LeakyReLU(),\n",
    "      nn.Linear(wandb.config.n_hidden_unit_list[1], n_output),\n",
    "      nn.Sigmoid()\n",
    "    )\n",
    "\n",
    "  def forward(self, x):\n",
    "    #print(\"Type of x:\", type(x))\n",
    "    #print(\"Shape of x:\", x.shape if isinstance(x, torch.Tensor) else \"Not a tensor\")\n",
    "    x = self.model(x)\n",
    "    return x\n",
    "\n",
    "\n",
    "def get_model_and_optimizer():\n",
    "  my_model = MyModel(n_input=15, n_output=1)\n",
    "  optimizer = optim.SGD(my_model.parameters(), lr=wandb.config.learning_rate)\n",
    "\n",
    "  return my_model, optimizer\n",
    "\n",
    "\n",
    "def training_loop(model, optimizer, train_data_loader, validation_data_loader):\n",
    "  n_epochs = wandb.config.epochs\n",
    "  optimizer = torch.optim.Adam(model.parameters(), lr=1e-3)\n",
    "  loss_fn = nn.BCELoss()  # Use a built-in loss function\n",
    "  next_print_epoch = 100\n",
    "  best_val_loss = float('inf')\n",
    "  counter = 0\n",
    "  patience = 200\n",
    "\n",
    "  for epoch in range(1, n_epochs + 1):\n",
    "    loss_train = 0.0\n",
    "    num_trains = 0\n",
    "    for train_batch in train_data_loader:\n",
    "      input = train_batch['input']\n",
    "      target = train_batch['target'].float()\n",
    "      # for i, row in enumerate(input):\n",
    "        # print(f\"Row {i}: {row}\")\n",
    "\n",
    "      if target.ndim == 1:\n",
    "        target = target.unsqueeze(-1)\n",
    "      output_train = model(input)\n",
    "      loss = loss_fn(output_train, target)\n",
    "      loss_train += loss.item()\n",
    "      num_trains += 1\n",
    "\n",
    "      optimizer.zero_grad()\n",
    "      loss.backward()\n",
    "      optimizer.step()\n",
    "\n",
    "    loss_validation = 0.0\n",
    "    num_validations = 0\n",
    "    with torch.no_grad():\n",
    "      for validation_batch in validation_data_loader:\n",
    "        input = validation_batch['input']\n",
    "        target = validation_batch['target'].float()\n",
    "        if target.ndim == 1:\n",
    "            target = target.unsqueeze(-1)\n",
    "        output_validation = model(input)\n",
    "        loss = loss_fn(output_validation, target)\n",
    "        loss_validation += loss.item()\n",
    "        num_validations += 1\n",
    "\n",
    "    avg_val_loss = loss_validation / num_validations\n",
    "    if avg_val_loss < best_val_loss:\n",
    "        best_val_loss = avg_val_loss\n",
    "        torch.save(model.state_dict(), \"best_model.pt\")\n",
    "        counter = 0\n",
    "    else:\n",
    "        counter += 1\n",
    "        if counter >= patience:\n",
    "            print(\"Early stopping!\")\n",
    "            break\n",
    "\n",
    "    wandb.log({\n",
    "      \"Epoch\": epoch,\n",
    "      \"Training loss\": loss_train / num_trains,\n",
    "      \"Validation loss\": loss_validation / num_validations\n",
    "    })\n",
    "\n",
    "    if epoch >= next_print_epoch:\n",
    "      print(\n",
    "        f\"Epoch {epoch}, \"\n",
    "        f\"Training loss {loss_train / num_trains:.4f}, \"\n",
    "        f\"Validation loss {loss_validation / num_validations:.4f}\"\n",
    "      )\n",
    "      next_print_epoch += 100\n",
    "\n",
    "def main(args):\n",
    "  current_time_str = datetime.now().astimezone().strftime('%Y-%m-%d_%H-%M-%S')\n",
    "\n",
    "  config = {\n",
    "    'epochs': args.epochs,\n",
    "    'batch_size': args.batch_size,\n",
    "    'learning_rate': 1e-3,\n",
    "    'n_hidden_unit_list': [32, 32],\n",
    "    #'n_hidden_units': args.n_hidden_units,\n",
    "  }\n",
    "  wandb.login()\n",
    "\n",
    "  run=wandb.init(\n",
    "    mode=\"online\" if args.wandb else \"disabled\",\n",
    "    project=\"my_model_training\",\n",
    "    notes=\"My first wandb experiment\",\n",
    "    tags=[\"my_model\", \"california_housing\"],\n",
    "    name=current_time_str,\n",
    "    config=config,\n",
    "    reinit=True\n",
    "  )\n",
    "  print(\"Run URL:\", run.get_url())\n",
    "  print(args)\n",
    "  print(wandb.config)\n",
    "\n",
    "  train_data_loader, validation_data_loader, test_data_loader = get_data()\n",
    "\n",
    "  linear_model, optimizer = get_model_and_optimizer()\n",
    "\n",
    "  print(\"#\" * 50, 1)\n",
    "\n",
    "  training_loop(\n",
    "    model=linear_model,\n",
    "    optimizer=optimizer,\n",
    "    train_data_loader=train_data_loader,\n",
    "    validation_data_loader=validation_data_loader\n",
    "  )\n",
    "  print(\"training end\")\n",
    "  print(\"#\" * 50, 1)\n",
    "  print(\"test start\")\n",
    "  model = MyModel(n_input=15, n_output=1)\n",
    "  model.load_state_dict(torch.load(\"best_model.pt\"))\n",
    "  model.eval()\n",
    "  all_preds = []\n",
    "\n",
    "  with torch.no_grad():\n",
    "    for batch in test_data_loader:\n",
    "      x = batch[\"input\"].to(\"cpu\")\n",
    "      output = model(x)\n",
    "      print(output[:10])\n",
    "      pred = (output > 0.5).int().squeeze()\n",
    "      all_preds.extend(pred.cpu().numpy())\n",
    "\n",
    "  CURRENT_FILE_PATH = os.path.join(\"..\",\"..\",\"_03_homeworks\",\"homework_2\")\n",
    "  test_data_path = os.path.join(CURRENT_FILE_PATH, \"test.csv\")\n",
    "  submission = pd.read_csv(test_data_path)\n",
    "  submission[\"Survived\"] = np.array(all_preds).astype(int)\n",
    "  submission = submission[[\"PassengerId\", \"Survived\"]]\n",
    "  submission.to_csv(\"submission.csv\", index=False)\n",
    "  print(\"test end\")\n",
    "\n",
    "  wandb.finish()\n",
    "\n",
    "\n",
    "# https://docs.wandb.ai/guides/track/config\n",
    "if __name__ == \"__main__\":\n",
    "  parser = argparse.ArgumentParser()\n",
    "\n",
    "  parser.add_argument(\n",
    "    \"--wandb\", action=argparse.BooleanOptionalAction, default=True, help=\"True or False\"\n",
    "  )\n",
    "\n",
    "  parser.add_argument(\n",
    "    \"-b\", \"--batch_size\", type=int, default=16, help=\"Batch size (int, default: 512)\"\n",
    "  )\n",
    "\n",
    "  parser.add_argument(\n",
    "    \"-e\", \"--epochs\", type=int, default=1_000, help=\"Number of training epochs (int, default:1_000)\"\n",
    "  )\n",
    "\n",
    "  args = parser.parse_args(args=[])\n",
    "\n",
    "  main(args)"
   ],
   "outputs": [
    {
     "name": "stdout",
     "output_type": "stream",
     "text": [
      "BASE_PATH: C:\\Users\\82102\\git\\link_dl\\_04_your_code\\hw1_3\n"
     ]
    },
    {
     "data": {
      "text/plain": [
       "<IPython.core.display.HTML object>"
      ],
      "text/html": []
     },
     "metadata": {},
     "output_type": "display_data",
     "jetTransient": {
      "display_id": "398458453113535608e1c982bf1a45c7"
     }
    },
    {
     "data": {
      "text/plain": [
       "<IPython.core.display.HTML object>"
      ],
      "text/html": [
       "Tracking run with wandb version 0.22.2"
      ]
     },
     "metadata": {},
     "output_type": "display_data",
     "jetTransient": {
      "display_id": null
     }
    },
    {
     "data": {
      "text/plain": [
       "<IPython.core.display.HTML object>"
      ],
      "text/html": [
       "Run data is saved locally in <code>C:\\Users\\82102\\git\\link_dl\\_04_your_code\\hw1_3\\wandb\\run-20251017_171842-huy72mjw</code>"
      ]
     },
     "metadata": {},
     "output_type": "display_data",
     "jetTransient": {
      "display_id": null
     }
    },
    {
     "data": {
      "text/plain": [
       "<IPython.core.display.HTML object>"
      ],
      "text/html": [
       "Syncing run <strong><a href='https://wandb.ai/kimminsuk9790-korea-university-of-technology-and-education/my_model_training/runs/huy72mjw' target=\"_blank\">2025-10-17_17-18-42</a></strong> to <a href='https://wandb.ai/kimminsuk9790-korea-university-of-technology-and-education/my_model_training' target=\"_blank\">Weights & Biases</a> (<a href='https://wandb.me/developer-guide' target=\"_blank\">docs</a>)<br>"
      ]
     },
     "metadata": {},
     "output_type": "display_data",
     "jetTransient": {
      "display_id": null
     }
    },
    {
     "data": {
      "text/plain": [
       "<IPython.core.display.HTML object>"
      ],
      "text/html": [
       " View project at <a href='https://wandb.ai/kimminsuk9790-korea-university-of-technology-and-education/my_model_training' target=\"_blank\">https://wandb.ai/kimminsuk9790-korea-university-of-technology-and-education/my_model_training</a>"
      ]
     },
     "metadata": {},
     "output_type": "display_data",
     "jetTransient": {
      "display_id": null
     }
    },
    {
     "data": {
      "text/plain": [
       "<IPython.core.display.HTML object>"
      ],
      "text/html": [
       " View run at <a href='https://wandb.ai/kimminsuk9790-korea-university-of-technology-and-education/my_model_training/runs/huy72mjw' target=\"_blank\">https://wandb.ai/kimminsuk9790-korea-university-of-technology-and-education/my_model_training/runs/huy72mjw</a>"
      ]
     },
     "metadata": {},
     "output_type": "display_data",
     "jetTransient": {
      "display_id": null
     }
    },
    {
     "name": "stdout",
     "output_type": "stream",
     "text": [
      "Run URL: https://wandb.ai/kimminsuk9790-korea-university-of-technology-and-education/my_model_training/runs/huy72mjw\n",
      "Namespace(wandb=True, batch_size=16, epochs=1000)\n",
      "{'epochs': 1000, 'batch_size': 16, 'learning_rate': 0.001, 'n_hidden_unit_list': [32, 32]}\n"
     ]
    },
    {
     "name": "stderr",
     "output_type": "stream",
     "text": [
      "C:\\Users\\82102\\AppData\\Local\\Temp\\ipykernel_25440\\1031792946.py:151: FutureWarning: A value is trying to be set on a copy of a DataFrame or Series through chained assignment using an inplace method.\n",
      "The behavior will change in pandas 3.0. This inplace method will never work because the intermediate object on which we are setting values always behaves as a copy.\n",
      "\n",
      "For example, when doing 'df[col].method(value, inplace=True)', try using 'df.method({col: value}, inplace=True)' or df[col] = df[col].method(value) instead, to perform the operation inplace on the original object.\n",
      "\n",
      "\n",
      "  all_df[\"Embarked\"].fillna(\"missing\", inplace=True)\n",
      "C:\\Users\\82102\\AppData\\Local\\Temp\\ipykernel_25440\\1031792946.py:152: FutureWarning: A value is trying to be set on a copy of a DataFrame or Series through chained assignment using an inplace method.\n",
      "The behavior will change in pandas 3.0. This inplace method will never work because the intermediate object on which we are setting values always behaves as a copy.\n",
      "\n",
      "For example, when doing 'df[col].method(value, inplace=True)', try using 'df.method({col: value}, inplace=True)' or df[col] = df[col].method(value) instead, to perform the operation inplace on the original object.\n",
      "\n",
      "\n",
      "  all_df[\"Sex\"].fillna(all_df[\"Sex\"].mode()[0], inplace=True)\n"
     ]
    },
    {
     "name": "stdout",
     "output_type": "stream",
     "text": [
      "Index(['Survived', 'Pclass', 'Sex', 'Age', 'SibSp', 'Parch', 'Fare',\n",
      "       'family_num', 'alone', 'Embarked_Q', 'Embarked_S', 'Embarked_missing',\n",
      "       'title_Miss', 'title_Mr', 'title_Mrs', 'title_other'],\n",
      "      dtype='object')\n",
      "   Survived  Pclass  Sex   Age  SibSp  Parch     Fare  family_num  alone  \\\n",
      "0       0.0       3    1  22.0      1      0   7.2500           1    0.0   \n",
      "1       1.0       1    0  38.0      1      0  71.2833           1    0.0   \n",
      "2       1.0       3    0  26.0      0      0   7.9250           0    1.0   \n",
      "3       1.0       1    0  35.0      1      0  53.1000           1    0.0   \n",
      "4       0.0       3    1  35.0      0      0   8.0500           0    1.0   \n",
      "5       0.0       3    1  29.0      0      0   8.4583           0    1.0   \n",
      "6       0.0       1    1  54.0      0      0  51.8625           0    1.0   \n",
      "7       0.0       3    1   2.0      3      1  21.0750           4    0.0   \n",
      "8       1.0       3    0  27.0      0      2  11.1333           2    0.0   \n",
      "9       1.0       2    0  14.0      1      0  30.0708           1    0.0   \n",
      "\n",
      "   Embarked_Q  Embarked_S  Embarked_missing  title_Miss  title_Mr  title_Mrs  \\\n",
      "0       False        True             False       False      True      False   \n",
      "1       False       False             False       False     False       True   \n",
      "2       False        True             False        True     False      False   \n",
      "3       False        True             False       False     False       True   \n",
      "4       False        True             False       False      True      False   \n",
      "5        True       False             False       False      True      False   \n",
      "6       False        True             False       False      True      False   \n",
      "7       False        True             False       False     False      False   \n",
      "8       False        True             False       False     False       True   \n",
      "9       False       False             False       False     False       True   \n",
      "\n",
      "   title_other  \n",
      "0        False  \n",
      "1        False  \n",
      "2        False  \n",
      "3        False  \n",
      "4        False  \n",
      "5        False  \n",
      "6        False  \n",
      "7        False  \n",
      "8        False  \n",
      "9        False  \n",
      "<class 'numpy.ndarray'>\n",
      "float64\n",
      "<class 'numpy.ndarray'>\n",
      "int64\n",
      "Data Size: 891, Input Shape: torch.Size([891, 15]), Target Shape: torch.Size([891])\n",
      "Data Size: 418, Input Shape: torch.Size([418, 15])\n",
      "<torch.utils.data.dataset.Subset object at 0x0000019EAFC129E0>\n",
      "713 178\n",
      "################################################## 1\n",
      "Epoch 100, Training loss 0.2707, Validation loss 0.2955\n",
      "Epoch 200, Training loss 0.2320, Validation loss 0.2789\n",
      "Epoch 300, Training loss 0.2261, Validation loss 0.2717\n",
      "Epoch 400, Training loss 0.1973, Validation loss 0.2494\n",
      "Epoch 500, Training loss 0.1930, Validation loss 0.2553\n",
      "Epoch 600, Training loss 0.1809, Validation loss 0.2313\n",
      "Epoch 700, Training loss 0.1735, Validation loss 0.2446\n",
      "Early stopping!\n",
      "training end\n",
      "################################################## 1\n",
      "test start\n",
      "tensor([[7.9767e-02],\n",
      "        [7.8981e-04],\n",
      "        [2.8751e-06],\n",
      "        [8.8777e-02],\n",
      "        [2.1799e-02],\n",
      "        [1.6720e-01],\n",
      "        [9.2085e-01],\n",
      "        [2.8042e-06],\n",
      "        [1.0000e+00],\n",
      "        [4.5014e-08]])\n",
      "test end\n"
     ]
    },
    {
     "data": {
      "text/plain": [
       "<IPython.core.display.HTML object>"
      ],
      "text/html": []
     },
     "metadata": {},
     "output_type": "display_data",
     "jetTransient": {
      "display_id": "b6034c5d906e9df2ace9ea37dcc8d19b"
     }
    },
    {
     "data": {
      "text/plain": [
       "<IPython.core.display.HTML object>"
      ],
      "text/html": [
       "<br>    <style><br>        .wandb-row {<br>            display: flex;<br>            flex-direction: row;<br>            flex-wrap: wrap;<br>            justify-content: flex-start;<br>            width: 100%;<br>        }<br>        .wandb-col {<br>            display: flex;<br>            flex-direction: column;<br>            flex-basis: 100%;<br>            flex: 1;<br>            padding: 10px;<br>        }<br>    </style><br><div class=\"wandb-row\"><div class=\"wandb-col\"><h3>Run history:</h3><br/><table class=\"wandb\"><tr><td>Epoch</td><td>▁▁▁▁▁▂▂▂▂▂▃▃▃▄▄▄▄▅▅▅▅▅▅▆▆▆▆▆▆▆▇▇▇▇▇▇████</td></tr><tr><td>Training loss</td><td>██▅▅▄▄▄▄▄▄▃▃▃▃▃▂▂▂▂▂▂▂▂▁▂▂▂▂▁▁▁▁▁▂▁▁▁▁▁▁</td></tr><tr><td>Validation loss</td><td>█▆▄▄▃▄▃▄▄▃▃▄▄▂▂▂▃▂▃▂▁▃▂▃▁▁▁▂▂▁▄▂▂▂▃▂▂▂▂▃</td></tr></table><br/></div><div class=\"wandb-col\"><h3>Run summary:</h3><br/><table class=\"wandb\"><tr><td>Epoch</td><td>787</td></tr><tr><td>Training loss</td><td>0.16421</td></tr><tr><td>Validation loss</td><td>0.24778</td></tr></table><br/></div></div>"
      ]
     },
     "metadata": {},
     "output_type": "display_data",
     "jetTransient": {
      "display_id": null
     }
    },
    {
     "data": {
      "text/plain": [
       "<IPython.core.display.HTML object>"
      ],
      "text/html": [
       " View run <strong style=\"color:#cdcd00\">2025-10-17_17-18-42</strong> at: <a href='https://wandb.ai/kimminsuk9790-korea-university-of-technology-and-education/my_model_training/runs/huy72mjw' target=\"_blank\">https://wandb.ai/kimminsuk9790-korea-university-of-technology-and-education/my_model_training/runs/huy72mjw</a><br> View project at: <a href='https://wandb.ai/kimminsuk9790-korea-university-of-technology-and-education/my_model_training' target=\"_blank\">https://wandb.ai/kimminsuk9790-korea-university-of-technology-and-education/my_model_training</a><br>Synced 5 W&B file(s), 0 media file(s), 0 artifact file(s) and 0 other file(s)"
      ]
     },
     "metadata": {},
     "output_type": "display_data",
     "jetTransient": {
      "display_id": null
     }
    },
    {
     "data": {
      "text/plain": [
       "<IPython.core.display.HTML object>"
      ],
      "text/html": [
       "Find logs at: <code>.\\wandb\\run-20251017_171842-huy72mjw\\logs</code>"
      ]
     },
     "metadata": {},
     "output_type": "display_data",
     "jetTransient": {
      "display_id": null
     }
    }
   ],
   "execution_count": 12
  },
  {
   "metadata": {},
   "cell_type": "markdown",
   "source": [
    "# <h1>요구사항 1</h1>\n",
    "기본 훈련 과정 데이터 Wandb URL\n",
    "https://wandb.ai/kimminsuk9790-korea-university-of-technology-and-education/my_model_training/runs/bo9briwf?nw=nwuserkimminsuk9790"
   ],
   "id": "a3f52cd70e8ab636"
  },
  {
   "metadata": {},
   "cell_type": "markdown",
   "source": [
    "# <h1>요구사항 2</h1>\n",
    "각각의 activation function을 호출한 모델을4회씩 훈련한 결과 제일 나은 성능을 보인 function은 LeakyReLU()였습니다. sigmoid()이 호출되면 validation loss가 0.3까지 안정적으로 감소하지만 천천히 감소되어서 학습 속도가 느립니다. ReLU(), ELU()가 호출되면 validation loss가 빠르게 감소하다 다시 증가합니다. 두 function은 sigmoid()를 호출 한 것보다 최소 validation loss가 작습니다. LeakyReLU()가 호출되면 빠르지도 느리지도 않게 감소하다 다시 증가하고 최소 validation loss 중 가장 작은 값을 가집니다. 각각의 activation function의 최소 validation loss를 크기 순서대로 나열하면 sigmoid()가 가장 컸고, 다음으로 ERU(), ReLU(), 마지막으로 LeakyReLU()가 가장 작았습니다.<br>\n",
    "Batch size가 64, 128이면 최소 validation loss가 0.25보다 크고, Batch size가 32이면 0.22보다 크며,Batch size가 16이면 0.2보다 큽니다. Batch size가 작은 경우에 최소 validation loss가 작게 나왔습니다.<br>\n",
    "LeakyReLU()를 호출하고 Batch size가 16일 때가 다른 activation function이나 Batch size 크기를 선택했을 때보다 평균적으로 낮은 validation loss를 가졌습니다."
   ],
   "id": "3386eee438249074"
  },
  {
   "metadata": {},
   "cell_type": "markdown",
   "source": [
    "# <h1>요구사항 3</h1>\n",
    "요구사항 2에서 가장 좋은 성능을 보이는 Activation Function과 Batch Size는 LeakyReLU()와 16이였습니다. 해당 Activation Function과 Batch Size로 모델을 구성하고 테스트 데이터 로더를 구성합니다.\n",
    "훈련과정 중에서는 validation loss가 가장 작은 epoch의 시점을 저장하고, 모든 훈련이 끝난 후 해당 시점을 불러와 테스트를 수행합니다.<br>\n",
    "https://wandb.ai/kimminsuk9790-korea-university-of-technology-and-education/my_model_training/runs/huy72mjw?nw=nwuserkimminsuk9790"
   ],
   "id": "de280db48b6cb923"
  },
  {
   "metadata": {},
   "cell_type": "markdown",
   "source": [
    "# <h1>요구사항 4</h1>\n",
    "제츨 및 등수 확인\n",
    "<img src=\"https://raw.githubusercontent.com/mudark/deeplearning/ef5f7c7ad19cf50f8eb1c13f2b2b4950c6d3c6b6/titatic_result.png\">"
   ],
   "id": "44ffbdd197917bfe"
  },
  {
   "metadata": {
    "ExecuteTime": {
     "end_time": "2025-10-14T13:39:59.456140Z",
     "start_time": "2025-10-14T13:39:59.437727Z"
    }
   },
   "cell_type": "markdown",
   "source": [
    "# <h1>숙제 후기</h1>\n",
    "전치리 코드를 잘못 건드는 바람에 Nan 값에 시달리며 전처리를 제대로 해야겠다고 생각했습니다. Kaggle에 테스트 출력 데이터를 등록하면서 실수했던 것을 수정하며 강의 내용을 상기할 수 있었습니다. 앞으로 계속 딥러닝을 학습하면서 타이타닉 생존률 뿐만 아니라 다양한 데이터도 딥러닝할 수 있도록 노력하겠습니다."
   ],
   "id": "10041856437be5c5",
   "attachments": {
    "8589dae9-0f8f-4e01-805b-8a1ae86a99d7.png": {
     "image/png": "[encoded data removed]"
    }
   }
  }
 ],
 "metadata": {
  "kernelspec": {
   "display_name": "Python 3",
   "language": "python",
   "name": "python3"
  },
  "language_info": {
   "codemirror_mode": {
    "name": "ipython",
    "version": 2
   },
   "file_extension": ".py",
   "mimetype": "text/x-python",
   "name": "python",
   "nbconvert_exporter": "python",
   "pygments_lexer": "ipython2",
   "version": "2.7.6"
  }
 },
 "nbformat": 4,
 "nbformat_minor": 5
}
